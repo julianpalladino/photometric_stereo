{
 "cells": [
  {
   "cell_type": "code",
   "execution_count": 2,
   "metadata": {
    "collapsed": true
   },
   "outputs": [],
   "source": [
    "import numpy as np\n",
    "import matplotlib.pyplot as plt\n",
    "%matplotlib inline"
   ]
  },
  {
   "cell_type": "code",
   "execution_count": 8,
   "metadata": {},
   "outputs": [
    {
     "data": {
      "text/plain": [
       "array([[ -2,   2,   0,   0,   0,   0,   0,   0],\n",
       "       [ -2,   0,   2,   0,   0,   0,   0,   0],\n",
       "       [  0,  -5,   0,   5,   0,   0,   0,   0],\n",
       "       [  0,  -5,   0,   0,   0,   0,   0,   0],\n",
       "       [  0,   0,   0,   0, -11,  11,   0,   0],\n",
       "       [  0,   0,   0,   0, -11,   0,  11,   0],\n",
       "       [  0,   0,   0,   0,   0, -14,   0,  14],\n",
       "       [  0,   0,   0,   0,   0, -14,   0,   0]], dtype=int8)"
      ]
     },
     "execution_count": 8,
     "metadata": {},
     "output_type": "execute_result"
    },
    {
     "data": {
      "image/png": "[encoded data removed]",
      "text/plain": [
       "<matplotlib.figure.Figure at 0x7fdfe68f3b00>"
      ]
     },
     "metadata": {},
     "output_type": "display_data"
    }
   ],
   "source": [
    "def build_band_M(normals):\n",
    "    h, w = normals.shape[0] - 1, normals.shape[1] - 1\n",
    "    n = w * h\n",
    "    M = np.zeros((2*n, 2*n), dtype=np.int8)\n",
    "    v = np.zeros(2*n, dtype=np.int8)\n",
    "    \n",
    "   \n",
    "    for i in range(h):\n",
    "        for j in range(w):\n",
    "            k = (i*w + j)*2\n",
    "            nx, ny, nz = normals[i][j]\n",
    "            \n",
    "            # v1\n",
    "            if j == 0:\n",
    "                M[k][k] = -nz\n",
    "                M[k][k + 1] = nz\n",
    "            else:\n",
    "                M[k][k - 1] = -nz\n",
    "                M[k][k + 1] = nz\n",
    "\n",
    "            # v2\n",
    "            if j == 0:\n",
    "                M[k + 1][k] = -nz\n",
    "                if j != w - 1:\n",
    "                    M[k + 1][k + 2] = nz\n",
    "            else:\n",
    "                M[k + 1][k - 1] = -nz\n",
    "                if j != w - 1:\n",
    "                    M[k + 1][k + 2] = nz\n",
    "                \n",
    "            \n",
    "    return M, v\n",
    "\n",
    "w, h = 3, 3\n",
    "normals = np.arange(w * h * 3).reshape(h, w, 3)\n",
    "M, v = build_band_M(normals)\n",
    "plt.matshow(M, cmap=plt.cm.magma)\n",
    "M"
   ]
  },
  {
   "cell_type": "code",
   "execution_count": 24,
   "metadata": {},
   "outputs": [
    {
     "data": {
      "text/plain": [
       "<matplotlib.image.AxesImage at 0x7fd0ab9b8198>"
      ]
     },
     "execution_count": 24,
     "metadata": {},
     "output_type": "execute_result"
    },
    {
     "data": {
      "image/png": "[encoded data removed]",
      "text/plain": [
       "<matplotlib.figure.Figure at 0x7fd0ab8ea208>"
      ]
     },
     "metadata": {},
     "output_type": "display_data"
    }
   ],
   "source": [
    "plt.matshow(M.T, cmap=plt.cm.magma)"
   ]
  },
  {
   "cell_type": "code",
   "execution_count": 25,
   "metadata": {},
   "outputs": [
    {
     "data": {
      "text/plain": [
       "<matplotlib.image.AxesImage at 0x7fd0ab91f6a0>"
      ]
     },
     "execution_count": 25,
     "metadata": {},
     "output_type": "execute_result"
    },
    {
     "data": {
      "image/png": "[encoded data removed]",
      "text/plain": [
       "<matplotlib.figure.Figure at 0x7fd0ab9e9d30>"
      ]
     },
     "metadata": {},
     "output_type": "display_data"
    }
   ],
   "source": [
    "A = np.matmul(M.T, M)\n",
    "plt.matshow(A, cmap=plt.cm.magma)"
   ]
  },
  {
   "cell_type": "code",
   "execution_count": null,
   "metadata": {
    "collapsed": true
   },
   "outputs": [],
   "source": []
  }
 ],
 "metadata": {
  "kernelspec": {
   "display_name": "Python 3",
   "language": "python",
   "name": "python3"
  },
  "language_info": {
   "codemirror_mode": {
    "name": "ipython",
    "version": 3
   },
   "file_extension": ".py",
   "mimetype": "text/x-python",
   "name": "python",
   "nbconvert_exporter": "python",
   "pygments_lexer": "ipython3",
   "version": "3.5.2"
  }
 },
 "nbformat": 4,
 "nbformat_minor": 2
}
