{
 "cells": [
  {
   "cell_type": "code",
   "execution_count": 178,
   "metadata": {},
   "outputs": [],
   "source": [
    "import matplotlib.pyplot as plt\n",
    "import matplotlib.image as mpimg\n",
    "import numpy as np\n",
    "import itertools as it\n",
    "import math\n",
    "\n",
    "referencia = '../../res/luces.txt'\n",
    "nuestras = 'luces_nuestras_mate_50.txt'\n",
    "ellos = []\n",
    "nos = []\n",
    "\n",
    "with open(referencia) as f:\n",
    "    next(f)\n",
    "    ellos.append((np.loadtxt(f)))\n",
    "\n",
    "\n",
    "with open(nuestras) as f:\n",
    "    next(f)\n",
    "    nos.append((np.loadtxt(f)))\n",
    "\n",
    "nos = nos[0]\n",
    "ellos = ellos[0]"
   ]
  },
  {
   "cell_type": "code",
   "execution_count": 179,
   "metadata": {},
   "outputs": [],
   "source": [
    "nos_comb = [x for x in it.combinations(nos, 3)]\n",
    "them_comb = [x for x in it.combinations(ellos, 3)]"
   ]
  },
  {
   "cell_type": "code",
   "execution_count": 180,
   "metadata": {},
   "outputs": [],
   "source": [
    "from numpy import linalg as LA\n",
    "np_us = np.array(nos_comb)\n",
    "np_them = np.array(them_comb)\n",
    "\n",
    "k_us = []\n",
    "k_them = []\n",
    "\n",
    "for arr in (np_us, np_them):\n",
    "    for elem in arr:\n",
    "        if arr is np_us:\n",
    "            k_us.append(LA.cond(elem, 2))\n",
    "        else:\n",
    "            k_them.append(LA.cond(elem, 2))"
   ]
  },
  {
   "cell_type": "code",
   "execution_count": 181,
   "metadata": {},
   "outputs": [
    {
     "name": "stdout",
     "output_type": "stream",
     "text": [
      "5.48463645012\n",
      "17.6842766004\n",
      "26.4965999233\n",
      "53.7015936876\n",
      "2100.6680286\n",
      "[38, 39, 160, 48, 138]\n"
     ]
    }
   ],
   "source": [
    "k = [x for x in k_us]\n",
    "k.sort()\n",
    "elem0 = k[0]\n",
    "elem25 = k[len(k)/4]\n",
    "elem50 = k[len(k)/2]\n",
    "elem75 = k[len(k) - len(k)/4]\n",
    "elem100 = k[len(k)-1]\n",
    "\n",
    "srch = [0,25,50,75,100]\n",
    "indx = []\n",
    "for i in srch:\n",
    "    st = \"elem = elem{}\".format(i)\n",
    "    exec(st)\n",
    "    print elem\n",
    "    indx.append(k_us.index(elem))\n",
    "\n",
    "print indx\n",
    "\n"
   ]
  },
  {
   "cell_type": "code",
   "execution_count": 182,
   "metadata": {},
   "outputs": [
    {
     "name": "stdout",
     "output_type": "stream",
     "text": [
      "La combinacion de luces para0\n",
      "0\n",
      "5\n",
      "10\n",
      "La combinacion de luces para25\n",
      "0\n",
      "5\n",
      "11\n",
      "La combinacion de luces para50\n",
      "3\n",
      "8\n",
      "11\n",
      "La combinacion de luces para75\n",
      "0\n",
      "7\n",
      "11\n",
      "La combinacion de luces para100\n",
      "3\n",
      "4\n",
      "7\n"
     ]
    }
   ],
   "source": [
    "#Ya obtuvimos nuestros numeros de condicion\n",
    "#Veamos cuales nos conviene usar. Vamos a elegir el mejor, el peor\n",
    "#y los percentiles 25, 50 y 75\n",
    "nos= nos.tolist()\n",
    "\n",
    "for i, indice in enumerate(indx):\n",
    "    combinacion = nos_comb[indice]\n",
    "    combinacion = [x.tolist() for x in combinacion]\n",
    "    combinacion = map(lambda x: (x), combinacion)\n",
    "    print \"La combinacion de luces para\" + str(srch[i])\n",
    "    print nos.index(combinacion[0])\n",
    "    print nos.index(combinacion[1])\n",
    "    print nos.index(combinacion[2])\n",
    "    \n"
   ]
  },
  {
   "cell_type": "code",
   "execution_count": null,
   "metadata": {
    "collapsed": true
   },
   "outputs": [],
   "source": []
  }
 ],
 "metadata": {
  "kernelspec": {
   "display_name": "Python 2",
   "language": "python",
   "name": "python2"
  },
  "language_info": {
   "codemirror_mode": {
    "name": "ipython",
    "version": 2
   },
   "file_extension": ".py",
   "mimetype": "text/x-python",
   "name": "python",
   "nbconvert_exporter": "python",
   "pygments_lexer": "ipython2",
   "version": "2.7.12"
  }
 },
 "nbformat": 4,
 "nbformat_minor": 2
}
